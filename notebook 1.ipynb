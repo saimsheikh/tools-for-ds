{
    "cells": [
        {
            "cell_type": "markdown",
            "metadata": {
                "collapsed": true
            },
            "source": "## Intro to jupyter notebook"
        },
        {
            "cell_type": "markdown",
            "metadata": {},
            "source": "## Data science is the study of data to extract meaningful insights for business"
        },
        {
            "cell_type": "markdown",
            "metadata": {},
            "source": "## Data science languages\npython \nR\nScala\nSQL\n.."
        },
        {
            "cell_type": "markdown",
            "metadata": {},
            "source": "## Data science liberaries\nscikit-learning\npytorch\ntensorflow\n.."
        },
        {
            "cell_type": "markdown",
            "metadata": {},
            "source": "## Data science tools\n| Tools|\n| ---- |\n| SAS |\n| Apache Spark |\n| BigML |\n| D3. |\n| MATLAB.|\n| Excel |\n"
        },
        {
            "cell_type": "markdown",
            "metadata": {},
            "source": "## arithmatic example\n\n4+7=13"
        },
        {
            "cell_type": "code",
            "execution_count": 7,
            "metadata": {},
            "outputs": [
                {
                    "data": {
                        "text/plain": "17"
                    },
                    "execution_count": 7,
                    "metadata": {},
                    "output_type": "execute_result"
                }
            ],
            "source": "(3*4)+5"
        },
        {
            "cell_type": "code",
            "execution_count": 2,
            "metadata": {},
            "outputs": [
                {
                    "data": {
                        "text/plain": "28"
                    },
                    "execution_count": 2,
                    "metadata": {},
                    "output_type": "execute_result"
                }
            ],
            "source": "4*7"
        },
        {
            "cell_type": "code",
            "execution_count": 6,
            "metadata": {},
            "outputs": [
                {
                    "name": "stdout",
                    "output_type": "stream",
                    "text": "enter minutes:45\n0.75 hours\n"
                }
            ],
            "source": "n=int(input('enter minutes:'))\n\nh=(n/60)\n\nprint(str(h)+\" hours\")"
        },
        {
            "cell_type": "markdown",
            "metadata": {},
            "source": "## objectives\n-covered tools\nnow will be learning programming languages."
        },
        {
            "cell_type": "markdown",
            "metadata": {},
            "source": "## author\n\n<h2>Saim</h2>"
        },
        {
            "cell_type": "code",
            "execution_count": null,
            "metadata": {},
            "outputs": [],
            "source": ""
        }
    ],
    "metadata": {
        "kernelspec": {
            "display_name": "Python 3.10",
            "language": "python",
            "name": "python3"
        },
        "language_info": {
            "codemirror_mode": {
                "name": "ipython",
                "version": 3
            },
            "file_extension": ".py",
            "mimetype": "text/x-python",
            "name": "python",
            "nbconvert_exporter": "python",
            "pygments_lexer": "ipython3",
            "version": "3.10.6"
        }
    },
    "nbformat": 4,
    "nbformat_minor": 1
}